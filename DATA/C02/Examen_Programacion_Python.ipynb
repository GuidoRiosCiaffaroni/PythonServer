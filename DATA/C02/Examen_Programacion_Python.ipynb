{
 "cells": [
  {
   "cell_type": "markdown",
   "id": "9e6c76c0",
   "metadata": {},
   "source": [
    "# Examen Programación en Python\n",
    "\n",
    "**Objetivo:** demostrar manejo de **definiciones/funciones**, **bucles**, **condicionales** y **EDA** con **pandas**, **numpy** y **matplotlib**.\n",
    "\n",
    "**Dataset:** `temperaturasDiariasPorEstaciones2012.csv` (delimitado por `;`). \n",
    "\n",
    "\n"
   ]
  },
  {
   "cell_type": "code",
   "execution_count": null,
   "id": "e249a112",
   "metadata": {},
   "outputs": [],
   "source": [
    "#carga tus datos y librerias en este espacio\n",
    "\n"
   ]
  },
  {
   "cell_type": "markdown",
   "id": "ae9e69e2",
   "metadata": {},
   "source": [
    "### Limpieza y preparación (10 pts)\n",
    "\n",
    "1. Construya una columna `fecha` desde `Año`, `Mes`, `Dia` y configúrela como índice temporal.  \n",
    "2. Asegure tipos correctos (`float` para temperaturas; `int`/`str` donde corresponda).  \n",
    "3. Elimine duplicados, si es que los hay. Para esto basate en la columna de `fecha`.\n",
    "4. Reporte el **% de datos faltantes** por columna.  \n",
    "5. Documente en una celda Markdown las decisiones tomadas.\n"
   ]
  },
  {
   "cell_type": "code",
   "execution_count": null,
   "id": "5de88495",
   "metadata": {},
   "outputs": [],
   "source": []
  },
  {
   "cell_type": "markdown",
   "id": "5fa54c2e",
   "metadata": {},
   "source": [
    "## Funciones utilitarias (30 pts)\n",
    "\n",
    "1. Defina las siguientes **tres funciones**:\n",
    "\n",
    "- `daily_range(tmin: float, tmax: float) -> float`: retorna el rango diario (`tmax - tmin`) de viariacion de la temperatura.  \n",
    "- `classify_day(tmin: float, tmax: float, q_low: float, q_high: float) -> str`: retorna una etiqueta (`\"frío\"`, `\"templado\"`, `\"caluroso\"`) según el siguiente criterio:  `frio` < 10 °C, `templado` > 10 °C pero < 24 °C y caluroso => 25°C Respecto a los valores máximos presentados por día\n",
    "- `monthly_quantiles(df_estacion: pd.DataFrame, month: int) -> tuple[float,float]`: retorna `(q10, q90)` de `TMaxima` para ese mes por estación.\n",
    "\n",
    "2. Usando las funciones anteriores:\n",
    "- En que fecha se registro la variación de temperatura más grande en la estación C.M.A. Eduardo Frei Montalva, Antartica.\n",
    "- En el año 2012 cuantos dias calurosos hubo en el país.\n",
    "- Genera una Gráfica donde se muestren la distrubución los días frios registrados por estación.\n",
    "-  De acuedo a las temperaturas  máximas registradas por cada estación: \n",
    "-  Cuál fue el mes del año más caluroso.\n",
    "-  Cuál fue el mes del año más frio.\n",
    "-  Qué estación documento la temperatura máxima más alta y en qué mes fue.\n",
    "-  Qué estación documento la temperatura máxima más baja y en qué mes fue.\n",
    "3. Documente en una celda Markdown las conclusiones a las que llegaste."
   ]
  },
  {
   "cell_type": "code",
   "execution_count": null,
   "id": "5067e7be",
   "metadata": {
    "vscode": {
     "languageId": "r"
    }
   },
   "outputs": [],
   "source": []
  },
  {
   "cell_type": "markdown",
   "id": "9f11e3e8",
   "metadata": {},
   "source": [
    "## Detección de olas de calor (30 pts)\n",
    "\n",
    "Defina una **ola de calor** como **≥ 3 días consecutivos** con `TMaxima` **> Percentil 90** del mes y estación.\n",
    "\n",
    "1. Para cada estación, calcule P90 mensual de `TMaxima`.  \n",
    "2. Detecte eventos (inicio, fin, duración) y obtenga: **número de eventos** y **duración máxima** por estación.  \n",
    "3. Para una estación `Maquehue, Temuco Ad.`, crea una matriz día-del-mes × mes (o día-del-año × semana) con: 1 si es día en ola, 0 si no.\n",
    "4. Calcula el Top-10 eventos por severidad y por duración\n",
    "5. Existe una correlacion entre lo eventos de ola de calor y la Latitud y altura\n",
    "- Genera una correlación de Pearson\n",
    "- Genera un gráfico de dispersión con línea de tendencia\n",
    "6. Documente en una celda Markdown las conclusiones a las que llegaste\n",
    "\n",
    "\n"
   ]
  },
  {
   "cell_type": "code",
   "execution_count": null,
   "id": "09d090ef",
   "metadata": {},
   "outputs": [],
   "source": []
  },
  {
   "cell_type": "markdown",
   "id": "cf80a6f5",
   "metadata": {},
   "source": [
    "## Tendencia anual (15 pts)\n",
    "\n",
    "Para cada estación, estime la **pendiente** (°C/día) de `TMaxima` usando `numpy.polyfit` con `x = día del año` y `y = TMaxima`.\n",
    "\n",
    "- Reporte la pendiente y ordene las 10 estaciones con pendiente más alta (calentamiento) y más baja (enfriamiento).\n"
   ]
  },
  {
   "cell_type": "code",
   "execution_count": null,
   "id": "6586683b",
   "metadata": {},
   "outputs": [],
   "source": []
  },
  {
   "cell_type": "markdown",
   "id": "acd5f5c5",
   "metadata": {},
   "source": [
    "## Visualizaciones (15 pts)\n",
    "\n",
    "1. Para una estación `Chacalluta, Arica Ap`, grafique series de `TMinima` y `TMaxima` a lo largo del año.  \n",
    "2. : Resumir TMaxima por mes con dispersión.\n",
    "- Pasos:\n",
    "    - Agrupa por mes y calcula mean y std de TMaxima.\n",
    "    - Grafica barras de medias con barras de error (±SD).\n",
    "3. Resaltar días extremadamente cálidos.\n",
    "- Pasos:\n",
    "    - Calcula umbral Percentil 99 de TMaxima para cada estación.\n",
    "    - Grafica serie de TMaxima y marca con puntos los ≥ P99; agrega línea horizontal en P99.\n",
    "4. En otra figura, cree un **boxplot** del `Rango` por mes para cada estación de medición.\n"
   ]
  },
  {
   "cell_type": "code",
   "execution_count": null,
   "id": "57092ca5",
   "metadata": {},
   "outputs": [],
   "source": []
  }
 ],
 "metadata": {
  "language_info": {
   "name": "python"
  }
 },
 "nbformat": 4,
 "nbformat_minor": 5
}
